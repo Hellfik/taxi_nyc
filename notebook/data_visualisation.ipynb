{
 "cells": [
  {
   "cell_type": "markdown",
   "metadata": {},
   "source": [
    "# I. Imports, modules, configurations"
   ]
  },
  {
   "cell_type": "markdown",
   "metadata": {},
   "source": [
    "## I.1 Configs"
   ]
  },
  {
   "cell_type": "code",
   "execution_count": 12,
   "metadata": {},
   "outputs": [],
   "source": [
    "import pandas as pd\n",
    "import numpy as np\n",
    "import matplotlib.pyplot as plt\n",
    "import seaborn as sns\n",
    "import sys\n",
    "from datetime import datetime\n",
    "from time import *\n",
    "from math import sin, cos, sqrt, atan2, radians\n",
    "\n",
    "\n",
    "sys.path.insert(0, \"/home/apprenant/Documents/simplon_dev/pyhon_sql/taxi_nyc\")\n",
    "\n",
    "# Pandas configurations \n",
    "sns.set()\n",
    "#pd.set_option('display.float_format', lambda x: '%.2f' % x)\n",
    "pd.set_option('display.max_rows', 100)\n",
    "pd.set_option('display.max_columns', 200)"
   ]
  },
  {
   "cell_type": "markdown",
   "metadata": {},
   "source": [
    "## I.2 Dataset import"
   ]
  },
  {
   "cell_type": "code",
   "execution_count": null,
   "metadata": {},
   "outputs": [],
   "source": [
    "# Reading the tsv files, printing the shape to see its dimensions and display the first five rows\n",
    "\"\"\"\n",
    "    The original dataset contains more than 1,4 milions rows.\n",
    "    The source dataset : https://www.kaggle.com/c/nyc-taxi-trip-duration/data?select=train.zip\n",
    "    For this analysis, we created a dataset sample from the original csv file. Sample of 100k rows\n",
    "    Code:\n",
    "    # The sample method randomly choose rows from a dataframe.  \n",
    "    df = df.sample(100000)\n",
    "\"\"\"\n",
    "df = pd.read_csv('../Data/raw_data/train.csv')"
   ]
  },
  {
   "cell_type": "markdown",
   "metadata": {},
   "source": [
    "# II. Data Exploration"
   ]
  },
  {
   "cell_type": "markdown",
   "metadata": {},
   "source": [
    "## II.1 Dataset properties"
   ]
  },
  {
   "cell_type": "code",
   "execution_count": 32,
   "metadata": {},
   "outputs": [
    {
     "name": "stdout",
     "output_type": "stream",
     "text": [
      "There are 100,000 rows and 14 columns in our dataset\n"
     ]
    }
   ],
   "source": [
    "df.sample(100000)\n",
    "print('There are {:,} rows and {} columns in our dataset'.format(df.shape[0], df.shape[1]))"
   ]
  },
  {
   "cell_type": "code",
   "execution_count": 33,
   "metadata": {},
   "outputs": [
    {
     "data": {
      "text/html": "<div>\n<style scoped>\n    .dataframe tbody tr th:only-of-type {\n        vertical-align: middle;\n    }\n\n    .dataframe tbody tr th {\n        vertical-align: top;\n    }\n\n    .dataframe thead th {\n        text-align: right;\n    }\n</style>\n<table border=\"1\" class=\"dataframe\">\n  <thead>\n    <tr style=\"text-align: right;\">\n      <th></th>\n      <th>id</th>\n      <th>vendor_id</th>\n      <th>pickup_datetime</th>\n      <th>dropoff_datetime</th>\n      <th>passenger_count</th>\n      <th>pickup_longitude</th>\n      <th>pickup_latitude</th>\n      <th>dropoff_longitude</th>\n      <th>dropoff_latitude</th>\n      <th>store_and_fwd_flag</th>\n      <th>trip_duration</th>\n      <th>distance</th>\n      <th>vitesse_moyenne</th>\n      <th>weekday</th>\n    </tr>\n  </thead>\n  <tbody>\n    <tr>\n      <th>404427</th>\n      <td>id1078247</td>\n      <td>2</td>\n      <td>2016-01-01 00:01:37</td>\n      <td>2016-01-01 00:03:31</td>\n      <td>1</td>\n      <td>-73.973335</td>\n      <td>40.764072</td>\n      <td>-73.974854</td>\n      <td>40.761734</td>\n      <td>N</td>\n      <td>114</td>\n      <td>0.290</td>\n      <td>9.157895</td>\n      <td>Friday</td>\n    </tr>\n    <tr>\n      <th>276262</th>\n      <td>id3956309</td>\n      <td>1</td>\n      <td>2016-01-01 00:05:35</td>\n      <td>2016-01-01 00:17:43</td>\n      <td>1</td>\n      <td>-73.990135</td>\n      <td>40.748852</td>\n      <td>-73.956535</td>\n      <td>40.775665</td>\n      <td>N</td>\n      <td>728</td>\n      <td>4.111</td>\n      <td>20.329121</td>\n      <td>Friday</td>\n    </tr>\n    <tr>\n      <th>1084575</th>\n      <td>id3900441</td>\n      <td>2</td>\n      <td>2016-01-01 00:06:04</td>\n      <td>2016-01-01 00:15:52</td>\n      <td>1</td>\n      <td>-73.969566</td>\n      <td>40.788765</td>\n      <td>-73.957085</td>\n      <td>40.770683</td>\n      <td>N</td>\n      <td>588</td>\n      <td>2.269</td>\n      <td>13.891837</td>\n      <td>Friday</td>\n    </tr>\n    <tr>\n      <th>388273</th>\n      <td>id3512166</td>\n      <td>2</td>\n      <td>2016-01-01 00:09:01</td>\n      <td>2016-01-01 00:19:32</td>\n      <td>2</td>\n      <td>-73.980484</td>\n      <td>40.783463</td>\n      <td>-73.953323</td>\n      <td>40.776718</td>\n      <td>N</td>\n      <td>631</td>\n      <td>2.407</td>\n      <td>13.732488</td>\n      <td>Friday</td>\n    </tr>\n    <tr>\n      <th>1034984</th>\n      <td>id0441132</td>\n      <td>2</td>\n      <td>2016-01-01 00:10:25</td>\n      <td>2016-01-01 00:16:30</td>\n      <td>1</td>\n      <td>-74.006500</td>\n      <td>40.739677</td>\n      <td>-74.006874</td>\n      <td>40.744091</td>\n      <td>N</td>\n      <td>365</td>\n      <td>0.492</td>\n      <td>4.852603</td>\n      <td>Friday</td>\n    </tr>\n  </tbody>\n</table>\n</div>",
      "text/plain": "                id  vendor_id     pickup_datetime    dropoff_datetime  \\\n404427   id1078247          2 2016-01-01 00:01:37 2016-01-01 00:03:31   \n276262   id3956309          1 2016-01-01 00:05:35 2016-01-01 00:17:43   \n1084575  id3900441          2 2016-01-01 00:06:04 2016-01-01 00:15:52   \n388273   id3512166          2 2016-01-01 00:09:01 2016-01-01 00:19:32   \n1034984  id0441132          2 2016-01-01 00:10:25 2016-01-01 00:16:30   \n\n         passenger_count  pickup_longitude  pickup_latitude  \\\n404427                 1        -73.973335        40.764072   \n276262                 1        -73.990135        40.748852   \n1084575                1        -73.969566        40.788765   \n388273                 2        -73.980484        40.783463   \n1034984                1        -74.006500        40.739677   \n\n         dropoff_longitude  dropoff_latitude store_and_fwd_flag  \\\n404427          -73.974854         40.761734                  N   \n276262          -73.956535         40.775665                  N   \n1084575         -73.957085         40.770683                  N   \n388273          -73.953323         40.776718                  N   \n1034984         -74.006874         40.744091                  N   \n\n         trip_duration  distance  vitesse_moyenne weekday  \n404427             114     0.290         9.157895  Friday  \n276262             728     4.111        20.329121  Friday  \n1084575            588     2.269        13.891837  Friday  \n388273             631     2.407        13.732488  Friday  \n1034984            365     0.492         4.852603  Friday  "
     },
     "execution_count": 33,
     "metadata": {},
     "output_type": "execute_result"
    }
   ],
   "source": [
    "df.head()"
   ]
  },
  {
   "cell_type": "code",
   "execution_count": 38,
   "metadata": {},
   "outputs": [
    {
     "data": {
      "text/plain": "<AxesSubplot:title={'center':'Data types repartition'}, ylabel='None'>"
     },
     "execution_count": 38,
     "metadata": {},
     "output_type": "execute_result"
    },
    {
     "data": {
      "image/png": "[encoded data removed]",
      "text/plain": "<Figure size 432x288 with 1 Axes>"
     },
     "metadata": {},
     "output_type": "display_data"
    }
   ],
   "source": [
    "# Just as informations about our data types\n",
    "sns.set_theme(style=\"whitegrid\")\n",
    "plt.title('Data types repartition')\n",
    "df.dtypes.value_counts().plot.pie()"
   ]
  },
  {
   "cell_type": "markdown",
   "metadata": {},
   "source": [
    "## II.2 Dataset colmuns analysis"
   ]
  },
  {
   "cell_type": "code",
   "execution_count": 36,
   "metadata": {},
   "outputs": [
    {
     "name": "stdout",
     "output_type": "stream",
     "text": [
      "Index(['id', 'vendor_id', 'pickup_datetime', 'dropoff_datetime',\n",
      "       'passenger_count', 'pickup_longitude', 'pickup_latitude',\n",
      "       'dropoff_longitude', 'dropoff_latitude', 'store_and_fwd_flag',\n",
      "       'trip_duration', 'distance', 'vitesse_moyenne', 'weekday'],\n",
      "      dtype='object')\n"
     ]
    }
   ],
   "source": [
    "# We print all our columns\n",
    "print(df.columns)"
   ]
  },
  {
   "cell_type": "code",
   "execution_count": 37,
   "metadata": {},
   "outputs": [
    {
     "data": {
      "text/plain": "id                    0\nvendor_id             0\npickup_datetime       0\ndropoff_datetime      0\npassenger_count       0\npickup_longitude      0\npickup_latitude       0\ndropoff_longitude     0\ndropoff_latitude      0\nstore_and_fwd_flag    0\ntrip_duration         0\ndistance              0\nvitesse_moyenne       0\nweekday               0\ndtype: int64"
     },
     "execution_count": 37,
     "metadata": {},
     "output_type": "execute_result"
    }
   ],
   "source": [
    "# We analyse the missing datas\n",
    "df.isnull().sum().sort_values()"
   ]
  },
  {
   "cell_type": "markdown",
   "metadata": {},
   "source": [
    "# III. Data indicators"
   ]
  },
  {
   "cell_type": "markdown",
   "metadata": {},
   "source": [
    "## INDICATOR 1 : la vitesse moyenne de chaque trajet (en km/h)"
   ]
  },
  {
   "cell_type": "code",
   "execution_count": 40,
   "metadata": {},
   "outputs": [
    {
     "data": {
      "text/html": "<div>\n<style scoped>\n    .dataframe tbody tr th:only-of-type {\n        vertical-align: middle;\n    }\n\n    .dataframe tbody tr th {\n        vertical-align: top;\n    }\n\n    .dataframe thead th {\n        text-align: right;\n    }\n</style>\n<table border=\"1\" class=\"dataframe\">\n  <thead>\n    <tr style=\"text-align: right;\">\n      <th></th>\n      <th>id</th>\n      <th>vendor_id</th>\n      <th>pickup_datetime</th>\n      <th>dropoff_datetime</th>\n      <th>passenger_count</th>\n      <th>pickup_longitude</th>\n      <th>pickup_latitude</th>\n      <th>dropoff_longitude</th>\n      <th>dropoff_latitude</th>\n      <th>store_and_fwd_flag</th>\n      <th>trip_duration</th>\n      <th>distance</th>\n      <th>vitesse_moyenne</th>\n      <th>weekday</th>\n    </tr>\n  </thead>\n  <tbody>\n    <tr>\n      <th>404427</th>\n      <td>id1078247</td>\n      <td>2</td>\n      <td>2016-01-01 00:01:37</td>\n      <td>2016-01-01 00:03:31</td>\n      <td>1</td>\n      <td>-73.973335</td>\n      <td>40.764072</td>\n      <td>-73.974854</td>\n      <td>40.761734</td>\n      <td>N</td>\n      <td>114</td>\n      <td>0.290</td>\n      <td>9.157895</td>\n      <td>Friday</td>\n    </tr>\n    <tr>\n      <th>276262</th>\n      <td>id3956309</td>\n      <td>1</td>\n      <td>2016-01-01 00:05:35</td>\n      <td>2016-01-01 00:17:43</td>\n      <td>1</td>\n      <td>-73.990135</td>\n      <td>40.748852</td>\n      <td>-73.956535</td>\n      <td>40.775665</td>\n      <td>N</td>\n      <td>728</td>\n      <td>4.111</td>\n      <td>20.329121</td>\n      <td>Friday</td>\n    </tr>\n    <tr>\n      <th>1084575</th>\n      <td>id3900441</td>\n      <td>2</td>\n      <td>2016-01-01 00:06:04</td>\n      <td>2016-01-01 00:15:52</td>\n      <td>1</td>\n      <td>-73.969566</td>\n      <td>40.788765</td>\n      <td>-73.957085</td>\n      <td>40.770683</td>\n      <td>N</td>\n      <td>588</td>\n      <td>2.269</td>\n      <td>13.891837</td>\n      <td>Friday</td>\n    </tr>\n    <tr>\n      <th>388273</th>\n      <td>id3512166</td>\n      <td>2</td>\n      <td>2016-01-01 00:09:01</td>\n      <td>2016-01-01 00:19:32</td>\n      <td>2</td>\n      <td>-73.980484</td>\n      <td>40.783463</td>\n      <td>-73.953323</td>\n      <td>40.776718</td>\n      <td>N</td>\n      <td>631</td>\n      <td>2.407</td>\n      <td>13.732488</td>\n      <td>Friday</td>\n    </tr>\n    <tr>\n      <th>1034984</th>\n      <td>id0441132</td>\n      <td>2</td>\n      <td>2016-01-01 00:10:25</td>\n      <td>2016-01-01 00:16:30</td>\n      <td>1</td>\n      <td>-74.006500</td>\n      <td>40.739677</td>\n      <td>-74.006874</td>\n      <td>40.744091</td>\n      <td>N</td>\n      <td>365</td>\n      <td>0.492</td>\n      <td>4.852603</td>\n      <td>Friday</td>\n    </tr>\n  </tbody>\n</table>\n</div>",
      "text/plain": "                id  vendor_id     pickup_datetime    dropoff_datetime  \\\n404427   id1078247          2 2016-01-01 00:01:37 2016-01-01 00:03:31   \n276262   id3956309          1 2016-01-01 00:05:35 2016-01-01 00:17:43   \n1084575  id3900441          2 2016-01-01 00:06:04 2016-01-01 00:15:52   \n388273   id3512166          2 2016-01-01 00:09:01 2016-01-01 00:19:32   \n1034984  id0441132          2 2016-01-01 00:10:25 2016-01-01 00:16:30   \n\n         passenger_count  pickup_longitude  pickup_latitude  \\\n404427                 1        -73.973335        40.764072   \n276262                 1        -73.990135        40.748852   \n1084575                1        -73.969566        40.788765   \n388273                 2        -73.980484        40.783463   \n1034984                1        -74.006500        40.739677   \n\n         dropoff_longitude  dropoff_latitude store_and_fwd_flag  \\\n404427          -73.974854         40.761734                  N   \n276262          -73.956535         40.775665                  N   \n1084575         -73.957085         40.770683                  N   \n388273          -73.953323         40.776718                  N   \n1034984         -74.006874         40.744091                  N   \n\n         trip_duration  distance  vitesse_moyenne weekday  \n404427             114     0.290         9.157895  Friday  \n276262             728     4.111        20.329121  Friday  \n1084575            588     2.269        13.891837  Friday  \n388273             631     2.407        13.732488  Friday  \n1034984            365     0.492         4.852603  Friday  "
     },
     "execution_count": 40,
     "metadata": {},
     "output_type": "execute_result"
    }
   ],
   "source": [
    "def vitesse_trajet(distance, temps ):     \n",
    "    \"\"\"Retourne la vitesse entre les le début et la fin du trajet.\"\"\"     \n",
    "    res = (distance * 1000)/ temps     \n",
    "    kmh = res * 3.6      \n",
    "    return kmh\n",
    "df['vitesse_moyenne'] = vitesse_trajet(df.distance, df.trip_duration)\n",
    "df.head()"
   ]
  },
  {
   "cell_type": "markdown",
   "metadata": {},
   "source": [
    "## INDICATOR 2 : le nombre de trajets effectués en fonction du jour de la semaine"
   ]
  },
  {
   "cell_type": "code",
   "execution_count": 41,
   "metadata": {},
   "outputs": [
    {
     "data": {
      "text/plain": "Friday       15368\nSaturday     15156\nThursday     14973\nWednesday    14280\nTuesday      13687\nSunday       13607\nMonday       12929\nName: weekday, dtype: int64"
     },
     "execution_count": 41,
     "metadata": {},
     "output_type": "execute_result"
    }
   ],
   "source": [
    "# Pour avoir le nom du jour, plutot qu'un numéro\n",
    "df['weekday'] = df.pickup_datetime.dt.day_name()\n",
    "df['weekday'].value_counts()"
   ]
  },
  {
   "cell_type": "markdown",
   "metadata": {},
   "source": [
    "## INDICATOR 3 : le nombre de trajets effectués en fonction de l’horaire de la journée par tranche de 4h."
   ]
  },
  {
   "cell_type": "code",
   "execution_count": 42,
   "metadata": {},
   "outputs": [
    {
     "data": {
      "text/plain": "pickup_datetime\n2016-01-01 00:00:00    130\n2016-01-01 04:00:00     47\n2016-01-01 08:00:00     43\n2016-01-01 12:00:00     95\n2016-01-01 16:00:00     87\n                      ... \n2016-06-30 04:00:00     52\n2016-06-30 08:00:00    106\n2016-06-30 12:00:00    100\n2016-06-30 16:00:00    116\n2016-06-30 20:00:00    121\nFreq: 4H, Name: id, Length: 1092, dtype: int64"
     },
     "execution_count": 42,
     "metadata": {},
     "output_type": "execute_result"
    }
   ],
   "source": [
    "df.groupby(pd.Grouper(key='pickup_datetime',freq='4H'))['id'].count()"
   ]
  },
  {
   "cell_type": "markdown",
   "metadata": {},
   "source": [
    "## INDICATOR 4 : le nombre de km parcourus par jour de la semaine"
   ]
  },
  {
   "cell_type": "code",
   "execution_count": 43,
   "metadata": {},
   "outputs": [
    {
     "data": {
      "text/plain": "weekday\nFriday       52075.375\nMonday       45697.318\nSaturday     50778.532\nSunday       50525.934\nThursday     52191.054\nTuesday      45145.475\nWednesday    46762.002\nName: distance, dtype: float64"
     },
     "execution_count": 43,
     "metadata": {},
     "output_type": "execute_result"
    }
   ],
   "source": [
    "#Nombre de km par jour de la semaine\n",
    "df.groupby('weekday')['distance'].sum()"
   ]
  }
 ],
 "metadata": {
  "kernelspec": {
   "display_name": "Python 3.8.8 64-bit ('base': conda)",
   "metadata": {
    "interpreter": {
     "hash": "5b9c502b618e97131917a2f1409b4700bb639cdf99ce16cd88a0e27a90524386"
    }
   },
   "name": "python3"
  },
  "language_info": {
   "codemirror_mode": {
    "name": "ipython",
    "version": 3
   },
   "file_extension": ".py",
   "mimetype": "text/x-python",
   "name": "python",
   "nbconvert_exporter": "python",
   "pygments_lexer": "ipython3",
   "version": "3.8.8"
  },
  "orig_nbformat": 2
 },
 "nbformat": 4,
 "nbformat_minor": 2
}