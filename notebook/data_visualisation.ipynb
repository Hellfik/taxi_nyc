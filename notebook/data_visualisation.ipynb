{
 "metadata": {
  "language_info": {
   "codemirror_mode": {
    "name": "ipython",
    "version": 3
   },
   "file_extension": ".py",
   "mimetype": "text/x-python",
   "name": "python",
   "nbconvert_exporter": "python",
   "pygments_lexer": "ipython3",
   "version": "3.9.2-final"
  },
  "orig_nbformat": 2,
  "kernelspec": {
   "name": "python3",
   "display_name": "Python 3.9.2 64-bit ('my_env': conda)",
   "metadata": {
    "interpreter": {
     "hash": "422d04aeac441fb0f7fe209f38dba0755441f9a7b7d06d10ca2c597a9b8544d8"
    }
   }
  }
 },
 "nbformat": 4,
 "nbformat_minor": 2,
 "cells": [
  {
   "cell_type": "code",
   "execution_count": 80,
   "metadata": {},
   "outputs": [
    {
     "output_type": "execute_result",
     "data": {
      "text/plain": [
       "                id  vendor_id      pickup_datetime     dropoff_datetime  \\\n",
       "1265168  id0579794          2  2016-03-29 10:19:59  2016-03-29 10:48:25   \n",
       "975664   id0254421          1  2016-02-22 07:54:00  2016-02-22 07:59:56   \n",
       "546126   id3441339          2  2016-06-18 00:58:40  2016-06-18 01:53:07   \n",
       "44127    id2316427          2  2016-03-16 11:26:23  2016-03-16 11:28:33   \n",
       "94164    id3210030          1  2016-04-01 14:22:57  2016-04-01 14:31:09   \n",
       "\n",
       "         passenger_count  pickup_longitude  pickup_latitude  \\\n",
       "1265168                1        -73.863800        40.769650   \n",
       "975664                 1        -73.960602        40.761341   \n",
       "546126                 1        -73.989891        40.734489   \n",
       "44127                  1        -73.987068        40.771255   \n",
       "94164                  1        -73.939476        40.805206   \n",
       "\n",
       "         dropoff_longitude  dropoff_latitude store_and_fwd_flag  trip_duration  \n",
       "1265168         -73.970596         40.755638                  N           1706  \n",
       "975664          -73.963280         40.770988                  N            356  \n",
       "546126          -73.944206         40.779499                  N           3267  \n",
       "44127           -73.982033         40.777679                  N            130  \n",
       "94164           -73.943741         40.793118                  N            492  "
      ],
      "text/html": "<div>\n<style scoped>\n    .dataframe tbody tr th:only-of-type {\n        vertical-align: middle;\n    }\n\n    .dataframe tbody tr th {\n        vertical-align: top;\n    }\n\n    .dataframe thead th {\n        text-align: right;\n    }\n</style>\n<table border=\"1\" class=\"dataframe\">\n  <thead>\n    <tr style=\"text-align: right;\">\n      <th></th>\n      <th>id</th>\n      <th>vendor_id</th>\n      <th>pickup_datetime</th>\n      <th>dropoff_datetime</th>\n      <th>passenger_count</th>\n      <th>pickup_longitude</th>\n      <th>pickup_latitude</th>\n      <th>dropoff_longitude</th>\n      <th>dropoff_latitude</th>\n      <th>store_and_fwd_flag</th>\n      <th>trip_duration</th>\n    </tr>\n  </thead>\n  <tbody>\n    <tr>\n      <th>1265168</th>\n      <td>id0579794</td>\n      <td>2</td>\n      <td>2016-03-29 10:19:59</td>\n      <td>2016-03-29 10:48:25</td>\n      <td>1</td>\n      <td>-73.863800</td>\n      <td>40.769650</td>\n      <td>-73.970596</td>\n      <td>40.755638</td>\n      <td>N</td>\n      <td>1706</td>\n    </tr>\n    <tr>\n      <th>975664</th>\n      <td>id0254421</td>\n      <td>1</td>\n      <td>2016-02-22 07:54:00</td>\n      <td>2016-02-22 07:59:56</td>\n      <td>1</td>\n      <td>-73.960602</td>\n      <td>40.761341</td>\n      <td>-73.963280</td>\n      <td>40.770988</td>\n      <td>N</td>\n      <td>356</td>\n    </tr>\n    <tr>\n      <th>546126</th>\n      <td>id3441339</td>\n      <td>2</td>\n      <td>2016-06-18 00:58:40</td>\n      <td>2016-06-18 01:53:07</td>\n      <td>1</td>\n      <td>-73.989891</td>\n      <td>40.734489</td>\n      <td>-73.944206</td>\n      <td>40.779499</td>\n      <td>N</td>\n      <td>3267</td>\n    </tr>\n    <tr>\n      <th>44127</th>\n      <td>id2316427</td>\n      <td>2</td>\n      <td>2016-03-16 11:26:23</td>\n      <td>2016-03-16 11:28:33</td>\n      <td>1</td>\n      <td>-73.987068</td>\n      <td>40.771255</td>\n      <td>-73.982033</td>\n      <td>40.777679</td>\n      <td>N</td>\n      <td>130</td>\n    </tr>\n    <tr>\n      <th>94164</th>\n      <td>id3210030</td>\n      <td>1</td>\n      <td>2016-04-01 14:22:57</td>\n      <td>2016-04-01 14:31:09</td>\n      <td>1</td>\n      <td>-73.939476</td>\n      <td>40.805206</td>\n      <td>-73.943741</td>\n      <td>40.793118</td>\n      <td>N</td>\n      <td>492</td>\n    </tr>\n  </tbody>\n</table>\n</div>"
     },
     "metadata": {},
     "execution_count": 80
    }
   ],
   "source": [
    "import pandas as pd\n",
    "import csv\n",
    "import numpy as np\n",
    "from datetime import datetime\n",
    "from time import *\n",
    "\n",
    "\n",
    "df = pd.read_csv('/home/apprenant/Desktop/FARIZD/taxi_nyc/taxi_nyc/Data/row_data/train.csv')\n",
    "df = df.sample(n=100000)\n",
    "\n",
    "df.head()"
   ]
  },
  {
   "cell_type": "code",
   "execution_count": 81,
   "metadata": {},
   "outputs": [
    {
     "output_type": "execute_result",
     "data": {
      "text/plain": [
       "(100000, 11)"
      ]
     },
     "metadata": {},
     "execution_count": 81
    }
   ],
   "source": [
    "df.shape"
   ]
  },
  {
   "cell_type": "code",
   "execution_count": 82,
   "metadata": {},
   "outputs": [
    {
     "output_type": "execute_result",
     "data": {
      "text/plain": [
       "id                     object\n",
       "vendor_id               int64\n",
       "pickup_datetime        object\n",
       "dropoff_datetime       object\n",
       "passenger_count         int64\n",
       "pickup_longitude      float64\n",
       "pickup_latitude       float64\n",
       "dropoff_longitude     float64\n",
       "dropoff_latitude      float64\n",
       "store_and_fwd_flag     object\n",
       "trip_duration           int64\n",
       "dtype: object"
      ]
     },
     "metadata": {},
     "execution_count": 82
    }
   ],
   "source": [
    "df.dtypes"
   ]
  },
  {
   "cell_type": "code",
   "execution_count": 83,
   "metadata": {},
   "outputs": [],
   "source": [
    "df['pickup_datetime'] = pd.to_datetime(df['pickup_datetime'], format=\"%Y-%m-%d %H:%M:%S\")\n",
    "df['dropoff_datetime'] = pd.to_datetime(df['dropoff_datetime'], format=\"%Y-%m-%d %H:%M:%S\")\n"
   ]
  },
  {
   "cell_type": "code",
   "execution_count": 84,
   "metadata": {},
   "outputs": [
    {
     "output_type": "execute_result",
     "data": {
      "text/plain": [
       "id                            object\n",
       "vendor_id                      int64\n",
       "pickup_datetime       datetime64[ns]\n",
       "dropoff_datetime      datetime64[ns]\n",
       "passenger_count                int64\n",
       "pickup_longitude             float64\n",
       "pickup_latitude              float64\n",
       "dropoff_longitude            float64\n",
       "dropoff_latitude             float64\n",
       "store_and_fwd_flag            object\n",
       "trip_duration                  int64\n",
       "dtype: object"
      ]
     },
     "metadata": {},
     "execution_count": 84
    }
   ],
   "source": [
    "df.dtypes\n"
   ]
  },
  {
   "cell_type": "code",
   "execution_count": 85,
   "metadata": {},
   "outputs": [],
   "source": [
    "#df['trip_duration']= df['trip_duration'].apply(lambda x :strftime('%H:%M:%S', gmtime(x)))"
   ]
  },
  {
   "cell_type": "code",
   "execution_count": 86,
   "metadata": {},
   "outputs": [
    {
     "output_type": "execute_result",
     "data": {
      "text/plain": [
       "                id  vendor_id     pickup_datetime    dropoff_datetime  \\\n",
       "1265168  id0579794          2 2016-03-29 10:19:59 2016-03-29 10:48:25   \n",
       "975664   id0254421          1 2016-02-22 07:54:00 2016-02-22 07:59:56   \n",
       "546126   id3441339          2 2016-06-18 00:58:40 2016-06-18 01:53:07   \n",
       "44127    id2316427          2 2016-03-16 11:26:23 2016-03-16 11:28:33   \n",
       "94164    id3210030          1 2016-04-01 14:22:57 2016-04-01 14:31:09   \n",
       "\n",
       "         passenger_count  pickup_longitude  pickup_latitude  \\\n",
       "1265168                1        -73.863800        40.769650   \n",
       "975664                 1        -73.960602        40.761341   \n",
       "546126                 1        -73.989891        40.734489   \n",
       "44127                  1        -73.987068        40.771255   \n",
       "94164                  1        -73.939476        40.805206   \n",
       "\n",
       "         dropoff_longitude  dropoff_latitude store_and_fwd_flag  trip_duration  \n",
       "1265168         -73.970596         40.755638                  N           1706  \n",
       "975664          -73.963280         40.770988                  N            356  \n",
       "546126          -73.944206         40.779499                  N           3267  \n",
       "44127           -73.982033         40.777679                  N            130  \n",
       "94164           -73.943741         40.793118                  N            492  "
      ],
      "text/html": "<div>\n<style scoped>\n    .dataframe tbody tr th:only-of-type {\n        vertical-align: middle;\n    }\n\n    .dataframe tbody tr th {\n        vertical-align: top;\n    }\n\n    .dataframe thead th {\n        text-align: right;\n    }\n</style>\n<table border=\"1\" class=\"dataframe\">\n  <thead>\n    <tr style=\"text-align: right;\">\n      <th></th>\n      <th>id</th>\n      <th>vendor_id</th>\n      <th>pickup_datetime</th>\n      <th>dropoff_datetime</th>\n      <th>passenger_count</th>\n      <th>pickup_longitude</th>\n      <th>pickup_latitude</th>\n      <th>dropoff_longitude</th>\n      <th>dropoff_latitude</th>\n      <th>store_and_fwd_flag</th>\n      <th>trip_duration</th>\n    </tr>\n  </thead>\n  <tbody>\n    <tr>\n      <th>1265168</th>\n      <td>id0579794</td>\n      <td>2</td>\n      <td>2016-03-29 10:19:59</td>\n      <td>2016-03-29 10:48:25</td>\n      <td>1</td>\n      <td>-73.863800</td>\n      <td>40.769650</td>\n      <td>-73.970596</td>\n      <td>40.755638</td>\n      <td>N</td>\n      <td>1706</td>\n    </tr>\n    <tr>\n      <th>975664</th>\n      <td>id0254421</td>\n      <td>1</td>\n      <td>2016-02-22 07:54:00</td>\n      <td>2016-02-22 07:59:56</td>\n      <td>1</td>\n      <td>-73.960602</td>\n      <td>40.761341</td>\n      <td>-73.963280</td>\n      <td>40.770988</td>\n      <td>N</td>\n      <td>356</td>\n    </tr>\n    <tr>\n      <th>546126</th>\n      <td>id3441339</td>\n      <td>2</td>\n      <td>2016-06-18 00:58:40</td>\n      <td>2016-06-18 01:53:07</td>\n      <td>1</td>\n      <td>-73.989891</td>\n      <td>40.734489</td>\n      <td>-73.944206</td>\n      <td>40.779499</td>\n      <td>N</td>\n      <td>3267</td>\n    </tr>\n    <tr>\n      <th>44127</th>\n      <td>id2316427</td>\n      <td>2</td>\n      <td>2016-03-16 11:26:23</td>\n      <td>2016-03-16 11:28:33</td>\n      <td>1</td>\n      <td>-73.987068</td>\n      <td>40.771255</td>\n      <td>-73.982033</td>\n      <td>40.777679</td>\n      <td>N</td>\n      <td>130</td>\n    </tr>\n    <tr>\n      <th>94164</th>\n      <td>id3210030</td>\n      <td>1</td>\n      <td>2016-04-01 14:22:57</td>\n      <td>2016-04-01 14:31:09</td>\n      <td>1</td>\n      <td>-73.939476</td>\n      <td>40.805206</td>\n      <td>-73.943741</td>\n      <td>40.793118</td>\n      <td>N</td>\n      <td>492</td>\n    </tr>\n  </tbody>\n</table>\n</div>"
     },
     "metadata": {},
     "execution_count": 86
    }
   ],
   "source": [
    "df.head()"
   ]
  },
  {
   "cell_type": "code",
   "execution_count": 87,
   "metadata": {},
   "outputs": [
    {
     "output_type": "execute_result",
     "data": {
      "text/plain": [
       "id                    0\n",
       "vendor_id             0\n",
       "pickup_datetime       0\n",
       "dropoff_datetime      0\n",
       "passenger_count       0\n",
       "pickup_longitude      0\n",
       "pickup_latitude       0\n",
       "dropoff_longitude     0\n",
       "dropoff_latitude      0\n",
       "store_and_fwd_flag    0\n",
       "trip_duration         0\n",
       "dtype: int64"
      ]
     },
     "metadata": {},
     "execution_count": 87
    }
   ],
   "source": [
    "df.isnull().sum()\n"
   ]
  },
  {
   "cell_type": "code",
   "execution_count": 88,
   "metadata": {},
   "outputs": [
    {
     "output_type": "execute_result",
     "data": {
      "text/plain": [
       "0"
      ]
     },
     "metadata": {},
     "execution_count": 88
    }
   ],
   "source": [
    "df.duplicated().sum()"
   ]
  },
  {
   "cell_type": "code",
   "execution_count": 89,
   "metadata": {},
   "outputs": [],
   "source": [
    "def haversine(lat1, lon1, lat2, lon2, to_radians=True, earth_radius=6371):\n",
    "    \n",
    "    if to_radians:\n",
    "        lat1, lon1, lat2, lon2 = np.radians([lat1, lon1, lat2, lon2])\n",
    "\n",
    "    a = np.sin((lat2-lat1)/2.0)**2 + \\\n",
    "        np.cos(lat1) * np.cos(lat2) * np.sin((lon2-lon1)/2.0)**2\n",
    "\n",
    "    return earth_radius * 2 * np.arcsin(np.sqrt(a))"
   ]
  },
  {
   "cell_type": "code",
   "execution_count": 90,
   "metadata": {},
   "outputs": [],
   "source": [
    "df['distance'] = haversine(df.pickup_latitude, df.pickup_longitude, df.dropoff_latitude, df.dropoff_longitude)"
   ]
  },
  {
   "cell_type": "code",
   "execution_count": 91,
   "metadata": {},
   "outputs": [],
   "source": [
    "df[\"distance\"] = df[\"distance\"].round(3)"
   ]
  },
  {
   "cell_type": "code",
   "execution_count": 92,
   "metadata": {},
   "outputs": [],
   "source": [
    "def vitesse_trajet(distance, temps ):\n",
    "    \"\"\"Retourne la vitesse entre les le début et la fin du trajet.\"\"\"\n",
    "    res = (distance * 1000)/ temps\n",
    "    kmh = res * 3.6 \n",
    "    return kmh"
   ]
  },
  {
   "cell_type": "code",
   "execution_count": 93,
   "metadata": {},
   "outputs": [],
   "source": [
    "df['vitesse_moyenne'] = vitesse_trajet(df.distance, df.trip_duration)"
   ]
  },
  {
   "cell_type": "code",
   "execution_count": 94,
   "metadata": {},
   "outputs": [
    {
     "output_type": "execute_result",
     "data": {
      "text/plain": [
       "                id  vendor_id     pickup_datetime    dropoff_datetime  \\\n",
       "1265168  id0579794          2 2016-03-29 10:19:59 2016-03-29 10:48:25   \n",
       "975664   id0254421          1 2016-02-22 07:54:00 2016-02-22 07:59:56   \n",
       "546126   id3441339          2 2016-06-18 00:58:40 2016-06-18 01:53:07   \n",
       "44127    id2316427          2 2016-03-16 11:26:23 2016-03-16 11:28:33   \n",
       "94164    id3210030          1 2016-04-01 14:22:57 2016-04-01 14:31:09   \n",
       "\n",
       "         passenger_count  pickup_longitude  pickup_latitude  \\\n",
       "1265168                1        -73.863800        40.769650   \n",
       "975664                 1        -73.960602        40.761341   \n",
       "546126                 1        -73.989891        40.734489   \n",
       "44127                  1        -73.987068        40.771255   \n",
       "94164                  1        -73.939476        40.805206   \n",
       "\n",
       "         dropoff_longitude  dropoff_latitude store_and_fwd_flag  \\\n",
       "1265168         -73.970596         40.755638                  N   \n",
       "975664          -73.963280         40.770988                  N   \n",
       "546126          -73.944206         40.779499                  N   \n",
       "44127           -73.982033         40.777679                  N   \n",
       "94164           -73.943741         40.793118                  N   \n",
       "\n",
       "         trip_duration  distance  vitesse_moyenne  \n",
       "1265168           1706     9.128        19.261899  \n",
       "975664             356     1.096        11.083146  \n",
       "546126            3267     6.313         6.956474  \n",
       "44127              130     0.831        23.012308  \n",
       "94164              492     1.391        10.178049  "
      ],
      "text/html": "<div>\n<style scoped>\n    .dataframe tbody tr th:only-of-type {\n        vertical-align: middle;\n    }\n\n    .dataframe tbody tr th {\n        vertical-align: top;\n    }\n\n    .dataframe thead th {\n        text-align: right;\n    }\n</style>\n<table border=\"1\" class=\"dataframe\">\n  <thead>\n    <tr style=\"text-align: right;\">\n      <th></th>\n      <th>id</th>\n      <th>vendor_id</th>\n      <th>pickup_datetime</th>\n      <th>dropoff_datetime</th>\n      <th>passenger_count</th>\n      <th>pickup_longitude</th>\n      <th>pickup_latitude</th>\n      <th>dropoff_longitude</th>\n      <th>dropoff_latitude</th>\n      <th>store_and_fwd_flag</th>\n      <th>trip_duration</th>\n      <th>distance</th>\n      <th>vitesse_moyenne</th>\n    </tr>\n  </thead>\n  <tbody>\n    <tr>\n      <th>1265168</th>\n      <td>id0579794</td>\n      <td>2</td>\n      <td>2016-03-29 10:19:59</td>\n      <td>2016-03-29 10:48:25</td>\n      <td>1</td>\n      <td>-73.863800</td>\n      <td>40.769650</td>\n      <td>-73.970596</td>\n      <td>40.755638</td>\n      <td>N</td>\n      <td>1706</td>\n      <td>9.128</td>\n      <td>19.261899</td>\n    </tr>\n    <tr>\n      <th>975664</th>\n      <td>id0254421</td>\n      <td>1</td>\n      <td>2016-02-22 07:54:00</td>\n      <td>2016-02-22 07:59:56</td>\n      <td>1</td>\n      <td>-73.960602</td>\n      <td>40.761341</td>\n      <td>-73.963280</td>\n      <td>40.770988</td>\n      <td>N</td>\n      <td>356</td>\n      <td>1.096</td>\n      <td>11.083146</td>\n    </tr>\n    <tr>\n      <th>546126</th>\n      <td>id3441339</td>\n      <td>2</td>\n      <td>2016-06-18 00:58:40</td>\n      <td>2016-06-18 01:53:07</td>\n      <td>1</td>\n      <td>-73.989891</td>\n      <td>40.734489</td>\n      <td>-73.944206</td>\n      <td>40.779499</td>\n      <td>N</td>\n      <td>3267</td>\n      <td>6.313</td>\n      <td>6.956474</td>\n    </tr>\n    <tr>\n      <th>44127</th>\n      <td>id2316427</td>\n      <td>2</td>\n      <td>2016-03-16 11:26:23</td>\n      <td>2016-03-16 11:28:33</td>\n      <td>1</td>\n      <td>-73.987068</td>\n      <td>40.771255</td>\n      <td>-73.982033</td>\n      <td>40.777679</td>\n      <td>N</td>\n      <td>130</td>\n      <td>0.831</td>\n      <td>23.012308</td>\n    </tr>\n    <tr>\n      <th>94164</th>\n      <td>id3210030</td>\n      <td>1</td>\n      <td>2016-04-01 14:22:57</td>\n      <td>2016-04-01 14:31:09</td>\n      <td>1</td>\n      <td>-73.939476</td>\n      <td>40.805206</td>\n      <td>-73.943741</td>\n      <td>40.793118</td>\n      <td>N</td>\n      <td>492</td>\n      <td>1.391</td>\n      <td>10.178049</td>\n    </tr>\n  </tbody>\n</table>\n</div>"
     },
     "metadata": {},
     "execution_count": 94
    }
   ],
   "source": [
    "df.head()"
   ]
  },
  {
   "cell_type": "code",
   "execution_count": 95,
   "metadata": {},
   "outputs": [
    {
     "output_type": "execute_result",
     "data": {
      "text/plain": [
       "4    15425\n",
       "5    15117\n",
       "3    14936\n",
       "2    14390\n",
       "1    14025\n",
       "6    13304\n",
       "0    12803\n",
       "Name: weekday, dtype: int64"
      ]
     },
     "metadata": {},
     "execution_count": 95
    }
   ],
   "source": [
    "df['weekday']=df.pickup_datetime.dt.weekday\n",
    "df['weekday'].value_counts()"
   ]
  },
  {
   "cell_type": "code",
   "execution_count": 96,
   "metadata": {},
   "outputs": [],
   "source": [
    "df['weekday']=df.pickup_datetime.dt.day_name()"
   ]
  },
  {
   "cell_type": "code",
   "execution_count": 97,
   "metadata": {},
   "outputs": [
    {
     "output_type": "execute_result",
     "data": {
      "text/plain": [
       "weekday\n",
       "Friday       52357.862\n",
       "Monday       46225.955\n",
       "Saturday     50298.977\n",
       "Sunday       48498.464\n",
       "Thursday     51713.258\n",
       "Tuesday      46717.501\n",
       "Wednesday    47820.020\n",
       "Name: distance, dtype: float64"
      ]
     },
     "metadata": {},
     "execution_count": 97
    }
   ],
   "source": [
    "df.groupby('weekday')['distance'].sum()"
   ]
  },
  {
   "cell_type": "code",
   "execution_count": 98,
   "metadata": {},
   "outputs": [
    {
     "output_type": "execute_result",
     "data": {
      "text/plain": [
       "                id  vendor_id     pickup_datetime    dropoff_datetime  \\\n",
       "1265168  id0579794          2 2016-03-29 10:19:59 2016-03-29 10:48:25   \n",
       "975664   id0254421          1 2016-02-22 07:54:00 2016-02-22 07:59:56   \n",
       "546126   id3441339          2 2016-06-18 00:58:40 2016-06-18 01:53:07   \n",
       "44127    id2316427          2 2016-03-16 11:26:23 2016-03-16 11:28:33   \n",
       "94164    id3210030          1 2016-04-01 14:22:57 2016-04-01 14:31:09   \n",
       "\n",
       "         passenger_count  pickup_longitude  pickup_latitude  \\\n",
       "1265168                1        -73.863800        40.769650   \n",
       "975664                 1        -73.960602        40.761341   \n",
       "546126                 1        -73.989891        40.734489   \n",
       "44127                  1        -73.987068        40.771255   \n",
       "94164                  1        -73.939476        40.805206   \n",
       "\n",
       "         dropoff_longitude  dropoff_latitude store_and_fwd_flag  \\\n",
       "1265168         -73.970596         40.755638                  N   \n",
       "975664          -73.963280         40.770988                  N   \n",
       "546126          -73.944206         40.779499                  N   \n",
       "44127           -73.982033         40.777679                  N   \n",
       "94164           -73.943741         40.793118                  N   \n",
       "\n",
       "         trip_duration  distance  vitesse_moyenne    weekday  \n",
       "1265168           1706     9.128        19.261899    Tuesday  \n",
       "975664             356     1.096        11.083146     Monday  \n",
       "546126            3267     6.313         6.956474   Saturday  \n",
       "44127              130     0.831        23.012308  Wednesday  \n",
       "94164              492     1.391        10.178049     Friday  "
      ],
      "text/html": "<div>\n<style scoped>\n    .dataframe tbody tr th:only-of-type {\n        vertical-align: middle;\n    }\n\n    .dataframe tbody tr th {\n        vertical-align: top;\n    }\n\n    .dataframe thead th {\n        text-align: right;\n    }\n</style>\n<table border=\"1\" class=\"dataframe\">\n  <thead>\n    <tr style=\"text-align: right;\">\n      <th></th>\n      <th>id</th>\n      <th>vendor_id</th>\n      <th>pickup_datetime</th>\n      <th>dropoff_datetime</th>\n      <th>passenger_count</th>\n      <th>pickup_longitude</th>\n      <th>pickup_latitude</th>\n      <th>dropoff_longitude</th>\n      <th>dropoff_latitude</th>\n      <th>store_and_fwd_flag</th>\n      <th>trip_duration</th>\n      <th>distance</th>\n      <th>vitesse_moyenne</th>\n      <th>weekday</th>\n    </tr>\n  </thead>\n  <tbody>\n    <tr>\n      <th>1265168</th>\n      <td>id0579794</td>\n      <td>2</td>\n      <td>2016-03-29 10:19:59</td>\n      <td>2016-03-29 10:48:25</td>\n      <td>1</td>\n      <td>-73.863800</td>\n      <td>40.769650</td>\n      <td>-73.970596</td>\n      <td>40.755638</td>\n      <td>N</td>\n      <td>1706</td>\n      <td>9.128</td>\n      <td>19.261899</td>\n      <td>Tuesday</td>\n    </tr>\n    <tr>\n      <th>975664</th>\n      <td>id0254421</td>\n      <td>1</td>\n      <td>2016-02-22 07:54:00</td>\n      <td>2016-02-22 07:59:56</td>\n      <td>1</td>\n      <td>-73.960602</td>\n      <td>40.761341</td>\n      <td>-73.963280</td>\n      <td>40.770988</td>\n      <td>N</td>\n      <td>356</td>\n      <td>1.096</td>\n      <td>11.083146</td>\n      <td>Monday</td>\n    </tr>\n    <tr>\n      <th>546126</th>\n      <td>id3441339</td>\n      <td>2</td>\n      <td>2016-06-18 00:58:40</td>\n      <td>2016-06-18 01:53:07</td>\n      <td>1</td>\n      <td>-73.989891</td>\n      <td>40.734489</td>\n      <td>-73.944206</td>\n      <td>40.779499</td>\n      <td>N</td>\n      <td>3267</td>\n      <td>6.313</td>\n      <td>6.956474</td>\n      <td>Saturday</td>\n    </tr>\n    <tr>\n      <th>44127</th>\n      <td>id2316427</td>\n      <td>2</td>\n      <td>2016-03-16 11:26:23</td>\n      <td>2016-03-16 11:28:33</td>\n      <td>1</td>\n      <td>-73.987068</td>\n      <td>40.771255</td>\n      <td>-73.982033</td>\n      <td>40.777679</td>\n      <td>N</td>\n      <td>130</td>\n      <td>0.831</td>\n      <td>23.012308</td>\n      <td>Wednesday</td>\n    </tr>\n    <tr>\n      <th>94164</th>\n      <td>id3210030</td>\n      <td>1</td>\n      <td>2016-04-01 14:22:57</td>\n      <td>2016-04-01 14:31:09</td>\n      <td>1</td>\n      <td>-73.939476</td>\n      <td>40.805206</td>\n      <td>-73.943741</td>\n      <td>40.793118</td>\n      <td>N</td>\n      <td>492</td>\n      <td>1.391</td>\n      <td>10.178049</td>\n      <td>Friday</td>\n    </tr>\n  </tbody>\n</table>\n</div>"
     },
     "metadata": {},
     "execution_count": 98
    }
   ],
   "source": [
    "df.head()"
   ]
  },
  {
   "cell_type": "code",
   "execution_count": null,
   "metadata": {},
   "outputs": [],
   "source": []
  }
 ]
}